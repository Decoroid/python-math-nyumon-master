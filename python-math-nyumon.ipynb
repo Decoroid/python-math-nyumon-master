{
 "cells": [
  {
   "cell_type": "markdown",
   "metadata": {},
   "source": [
    "## **PyLadies Tokyo Meetup #27 すうがくはじめの一歩**\n",
    "### **〜Jupyter Notebook入門 ハンズオン〜**"
   ]
  },
  {
   "cell_type": "markdown",
   "metadata": {},
   "source": [
    "### **アジェンダ**\n",
    "- JupyterNotbookについて\n",
    "    1. JupyterNotebookとは\n",
    "    2. JupyterNotebookの操作方法\n",
    "    3. 小ネタ\n",
    "    4. JupyterNotebookでPythonプログラムを書いてみよう\n",
    "- 数値計算ライブラリの紹介\n",
    "    1. Pandas\n",
    "    2. Numpy\n",
    "    3. Matplotlib\n",
    "    4. Sympy"
   ]
  },
  {
   "cell_type": "markdown",
   "metadata": {},
   "source": [
    "ハンズオンに入る前に以下のGitレポジトリをご自分のローカル環境にgit clone(又はDL)してください\n",
    "https://github.com/chanmitsu55/python-math-nyumon\n",
    "※本ノートブックと、ハンズオンで使うデータが入ってます。"
   ]
  },
  {
   "cell_type": "markdown",
   "metadata": {
    "collapsed": true
   },
   "source": [
    "### **JupyterNotbookについて**\n",
    "### 1.  JupyterNotebookとは\n",
    "- WebブラウザからPythonのプログラムを実行することのできる対話型実行ツールです。\n",
    "- 「セル」と呼ばれるこの枠内にはPythonプログラムだけでなく、Markdown形式でメモも書けます。\n",
    "- 以下のコマンドをコンソール画面から打ってJupyterNotebookを立ち上げてみましょう。  \n",
    "  `$ jupyter notebook`  \n",
    "---\n",
    "_※まだJupyterNotebookがインストールできていない方は以下のコマンドでインストールしてください_  \n",
    "　\n",
    " 　`$ pip(or conda) install jupyter`"
   ]
  },
  {
   "cell_type": "markdown",
   "metadata": {},
   "source": [
    "### 2. JupyterNotebookの操作方法\n",
    "- 最低限、以下の操作を覚えれば快適なJyupyter生活が送れます😊   \n",
    "    - セルを実行する(画面上部にある「▶|」のボタンでも可)\n",
    "        - `shift + Enter`\n",
    "    - セル内のモードを`コードモード`又は`Markdownモード`に切り替える   \n",
    "    (画面上部にあるプルダウンからでも選択可)\n",
    "        - `esc+Y`：コードモード\n",
    "        - `esc+M`：マークダウンモード\n",
    "    - セルを挿入する(画面上部の左側にある「+」ボタンでも可)\n",
    "        - `esc+A`：セルを上に挿入する\n",
    "        - `esc+B`：セルを下に挿入する\n",
    "    - セルを削除する(画面上部にある「Edit」を押して「Delete Cells」を選択するのでも可)\n",
    "        - `esc+DD`：セルを削除する"
   ]
  },
  {
   "cell_type": "markdown",
   "metadata": {},
   "source": [
    "### 3. 小ネタ①\n",
    "- JupyterNotebookのテーマを変えたい場合\n",
    "    - シンプルな最初のUIでも全く問題ないのですが、色々テーマを変えると気分も上がるのでおすすめです。\n",
    "    - コンソール上から`jt -l`と打つとテーマ一覧が表示されるのでそこから気に入ったものを選びます。\n",
    "    ```\n",
    "    pip3(conda) install jupyterthemesをする必要あり。\n",
    "    #anaconda→conda\n",
    "    #python pip\n",
    "    \n",
    "    $ jt -l\n",
    "     Available Themes:\n",
    "       chesterish\n",
    "       grade3\n",
    "       monokai\n",
    "       oceans16\n",
    "       onedork\n",
    "       solarizedd\n",
    "       solarizedl  \n",
    "    ```\n",
    "    \n",
    "    ```\n",
    "    $　jt -t solarizedl -T -N   \n",
    "    # このコマンド後にJupyterNotebookの画面をリロードすると新しいテーマが適用されます。  \n",
    "    # ちなみに-Tはツールバーの表示、-Nはファイル名とロゴを表示させるオプションです。\n",
    "    ```"
   ]
  },
  {
   "cell_type": "markdown",
   "metadata": {},
   "source": [
    "### 3. 小ネタ②\n",
    "- Latexみたいに数式を書きたい場合\n",
    "    - MarkdownセルにMathJaxで書き込むことでノートブック内で数式も表現できます。\n",
    "    - 例として以下を「Markdown」モードで実行してみてください。\n",
    "```\n",
    "\\begin{equation*}\n",
    "P(E)   = {n \\choose k} p^k (1-p)^{ n-k}\n",
    "\\end{equation*}\n",
    "```"
   ]
  },
  {
   "cell_type": "markdown",
   "metadata": {},
   "source": [
    "\\begin{equation*}\n",
    "P(E)   = {n \\choose k} p^k (1-p)^{ n-k}\n",
    "\\end{equation*}"
   ]
  },
  {
   "cell_type": "markdown",
   "metadata": {},
   "source": [
    "- 他の数式記法はこちらを参照   \n",
    "(http://jupyter-notebook.readthedocs.io/en/stable/examples/Notebook/Typesetting%20Equations.html)"
   ]
  },
  {
   "cell_type": "markdown",
   "metadata": {},
   "source": [
    "### 4. JupyterNotebookでPythonプログラムを書いてみよう\n",
    "- ここからは練習を兼ねてprint文から自作関数の実行までやってみたいと思います"
   ]
  },
  {
   "cell_type": "code",
   "execution_count": 1,
   "metadata": {},
   "outputs": [
    {
     "name": "stdout",
     "output_type": "stream",
     "text": [
      "shift Enter\n"
     ]
    }
   ],
   "source": [
    "# まずはprint出力\n",
    "print('shift Enter')"
   ]
  },
  {
   "cell_type": "code",
   "execution_count": null,
   "metadata": {},
   "outputs": [
    {
     "name": "stdout",
     "output_type": "stream",
     "text": [
      "0\n",
      "1\n",
      "2\n",
      "3\n",
      "4\n"
     ]
    }
   ],
   "source": [
    "# ループ分も同様に\n",
    "for cnt in range(5):\n",
    "    print(cnt)"
   ]
  },
  {
   "cell_type": "markdown",
   "metadata": {},
   "source": [
    "- 自作関数も実行してみましょう\n",
    "- 例としてinput関数を使います"
   ]
  },
  {
   "cell_type": "code",
   "execution_count": null,
   "metadata": {},
   "outputs": [],
   "source": [
    "# input関数とはキーボードに入力したデータを受け付けるための関数です。\n",
    "# よく使うprint関数は標準出力、input関数はその反対。\n",
    "inp = input('なんでもよいので入力してください>>> ')\n",
    "print(inp)"
   ]
  },
  {
   "cell_type": "markdown",
   "metadata": {},
   "source": [
    "- これを応用して最後に自作関数を作ってみましょう"
   ]
  },
  {
   "cell_type": "code",
   "execution_count": null,
   "metadata": {
    "scrolled": true
   },
   "outputs": [],
   "source": [
    "def main():\n",
    "    num_str = input('好きな数字を入力してください: ')\n",
    "    num = int(num_str)\n",
    "    favorite_gundam_series(num)\n",
    "\n",
    "# 入力した数値をリストに照らし合わせて該当の値を抜き出す関数です\n",
    "def favorite_gundam_series(num):\n",
    "    gundam_series = ['機動戦士ガンダム', '機動戦士Zガンダム', '機動戦士ガンダムΖΖ', '機動戦士ガンダム 逆襲のシャア',\n",
    "                    '機動戦士ガンダムUC', '新機動戦記ガンダムW', '機動戦士ガンダムSEED', '機動戦士ガンダム00']\n",
    "    idx = int(num) % len(gundam_series)   # 入力値をリストのインデックスに変換する\n",
    "    print('あなたの好きなガンダムシリーズは')\n",
    "    print(gundam_series[idx])\n",
    "\n",
    "if __name__ == '__main__':\n",
    "    main()\n"
   ]
  },
  {
   "cell_type": "code",
   "execution_count": null,
   "metadata": {
    "collapsed": true
   },
   "outputs": [],
   "source": []
  },
  {
   "cell_type": "markdown",
   "metadata": {},
   "source": [
    "- ついでなので好きなガンダムシリーズを占う関数も作ってみましょう\n",
    "- セル内で必要なライブラリをインポートすれば簡単に実行できます"
   ]
  },
  {
   "cell_type": "code",
   "execution_count": null,
   "metadata": {},
   "outputs": [],
   "source": [
    "from random import randint # ライブラリのインポート\n",
    "num = randint(0, 7)\n",
    "favorite_gundam_series(num)"
   ]
  },
  {
   "cell_type": "markdown",
   "metadata": {
    "collapsed": true
   },
   "source": [
    "### **数値計算ライブラリの紹介**\n",
    "- ここからは数値計算でよく使うライブラリを紹介していきます。\n",
    "- pythonはライブラリが豊富なので数値計算系といってもかなり多くのライブラリが存在します。\n",
    "    - データ処理が得意なPandas \n",
    "    - 配列処理ができるNumpy\n",
    "    - グラフ描画が得意なMatplotlib\n",
    "    - numpyで行える処理に加えて、さらに信号処理や統計といった計算処理ができるScipy\n",
    "    - 関数の微分積分をはじめ、式の展開や方程式を解くことができるSympy\n",
    "- 本日は上から順にpandas, Numpy, Matplotlibを実際に使っていきましょう！"
   ]
  },
  {
   "cell_type": "markdown",
   "metadata": {},
   "source": [
    "### 1. pandasとは\n",
    "- データを容易に扱うためのライブラリ\n",
    "- pandasの2つの主要なデータ構造であるSeriesとDataFrameはデータ処理に最適。\n",
    "- ここからは実際にtitanic.csvのデータを使って、どんなことができるか見ていきます。\n",
    "※titanic.csvは以下のレポジトリからgit clone又はDLしてください\n",
    "https://github.com/chanmitsu55/python-math-nyumon"
   ]
  },
  {
   "cell_type": "code",
   "execution_count": null,
   "metadata": {},
   "outputs": [],
   "source": [
    "# 必要なモジュールをインポート\n",
    "from pandas import Series, DataFrame\n",
    "import pandas as pd\n",
    "\n",
    "# 冒頭でgit cloneした中に入っている「titanic.csv」のローカルパスを記載してください\n",
    "titanic_df = pd.read_csv('/Users/michiko.kadoya/JupyterNotebook/python-math-nyumon/titanic.csv')\n",
    "titanic_df"
   ]
  },
  {
   "cell_type": "code",
   "execution_count": null,
   "metadata": {},
   "outputs": [],
   "source": [
    "# 全部表示する必要がなく、どんなデータ構造なのかを知りたいだけであればhead関数を用いる\n",
    "titanic_df.head(5) # 最初の5行のみ"
   ]
  },
  {
   "cell_type": "code",
   "execution_count": null,
   "metadata": {},
   "outputs": [],
   "source": [
    "#データのサイズを確認\n",
    "print('titanic data shape:', titanic_df.shape) # (行, 列)の形式で出力"
   ]
  },
  {
   "cell_type": "code",
   "execution_count": null,
   "metadata": {},
   "outputs": [],
   "source": [
    "# 「Age(年齢)」の各統計値を求めてみる\n",
    "titanic_df.Age.describe() #meanは中央値、stdは標準偏差"
   ]
  },
  {
   "cell_type": "code",
   "execution_count": null,
   "metadata": {},
   "outputs": [],
   "source": [
    "# 列（カラム）の名前を調べる.columnsでわかります。\n",
    "titanic_df.columns # .columnsを用いる"
   ]
  },
  {
   "cell_type": "code",
   "execution_count": null,
   "metadata": {},
   "outputs": [],
   "source": [
    "# 特定の列だけ抜き出す\n",
    "titanic_df['Name'].head(5)"
   ]
  },
  {
   "cell_type": "code",
   "execution_count": null,
   "metadata": {},
   "outputs": [],
   "source": [
    "# 特定のカラムで新しいDataFrameを作る\n",
    "DataFrame(titanic_df,columns=['Survived','Sex','Age']).head(5)"
   ]
  },
  {
   "cell_type": "code",
   "execution_count": null,
   "metadata": {},
   "outputs": [],
   "source": [
    "# null値がどれ位含まれているか確かめる\n",
    "# データの前処理で使われる\n",
    "nulls = pd.DataFrame(titanic_df.isnull().sum().sort_values(ascending=False)) #nullが何個あるか算出\n",
    "nulls.columns = ['Null Counts'] # 列に「Null Counts」という名前をつける\n",
    "nulls.index.name = 'Features'   # indexに「Features」という名前をつける\n",
    "nulls"
   ]
  },
  {
   "cell_type": "markdown",
   "metadata": {},
   "source": [
    "### 2. Numpyとは\n",
    "- 多次元の配列を扱うためのライブラリ\n",
    "- ndarrayというデータ型を扱う"
   ]
  },
  {
   "cell_type": "code",
   "execution_count": null,
   "metadata": {},
   "outputs": [],
   "source": [
    "import numpy as np\n",
    "\n",
    "# loadtxt関数でデータを読み込む\n",
    "# reactions.txtは時間をミリ秒単位で読み込んだデータ\n",
    "reactions_in_ms = np.loadtxt('/Users/michiko.kadoya/JupyterNotebook/python-math-nyumon/reactions.txt')"
   ]
  },
  {
   "cell_type": "code",
   "execution_count": null,
   "metadata": {},
   "outputs": [],
   "source": [
    "#要素数を表示\n",
    "print(reactions_in_ms.size)"
   ]
  },
  {
   "cell_type": "code",
   "execution_count": null,
   "metadata": {},
   "outputs": [],
   "source": [
    "# 先頭から10個の要素を表示\n",
    "print(reactions_in_ms[:10])"
   ]
  },
  {
   "cell_type": "markdown",
   "metadata": {},
   "source": [
    "- 元々のデータはミリ秒の単位なので、これを秒単位で表したい、とする\n",
    "- もしこのデータがリストだったらfor文を使ってループさせないといけないが、array型なので単純に1000で割ればよい\n",
    "- ここがarray型の便利なところ。"
   ]
  },
  {
   "cell_type": "code",
   "execution_count": null,
   "metadata": {},
   "outputs": [],
   "source": [
    "reactions_in_sec = reactions_in_ms / 1000 # for文使わなくてイイ！\n",
    "print(reactions_in_sec[:10]) # 先頭から10個の要素を表示"
   ]
  },
  {
   "cell_type": "code",
   "execution_count": null,
   "metadata": {},
   "outputs": [],
   "source": [
    "f = open('/Users/michiko.kadoya/JupyterNotebook/python-math-nyumon/reactions.txt')\n",
    "data1 = f.readlines()   # ファイル終端まで全て読んだデータを返す\n",
    "f.close()\n",
    "\n",
    "print(data1)\n",
    "lines1 = data1.split('\\n') # 改行で区切る(改行文字そのものは戻り値のデータには含まれない)\n",
    "for line in lines1:\n",
    "    print(line)"
   ]
  },
  {
   "cell_type": "code",
   "execution_count": null,
   "metadata": {},
   "outputs": [],
   "source": [
    "- 各要素に対して掛け算、足し算、といった演算子を使って一括処理ができる点がNumpyの強力な点です"
   ]
  },
  {
   "cell_type": "markdown",
   "metadata": {},
   "source": [
    "- その他にもNumpyは統計処理が得意。\n",
    "(ちなみに↓と同じことはpandasのdescribe()関数を用いても同じことができます。)"
   ]
  },
  {
   "cell_type": "code",
   "execution_count": null,
   "metadata": {},
   "outputs": [],
   "source": [
    "print('平均値:', np.mean(reactions_in_sec))\n",
    "print('中央値:', np.median(reactions_in_sec))\n",
    "print('標準偏差:', np.std(reactions_in_sec))\n",
    "print('最小値:', np.min(reactions_in_sec))\n",
    "print('最大値:', np.max(reactions_in_sec))"
   ]
  },
  {
   "cell_type": "markdown",
   "metadata": {},
   "source": [
    "- Tips  \n",
    "実際にJupyter Notebookでモジュールをインポートする際は以下のように冒頭部分にまとめて記載するのが個人的にはおすすめです。\n",
    "```\n",
    "from pandas import Series, DataFrame\n",
    "import pandas as pd\n",
    "import numpy as np\n",
    "import matplotlib.pyplot as plt\n",
    "%matplotlib inline\n",
    "```"
   ]
  },
  {
   "cell_type": "markdown",
   "metadata": {},
   "source": [
    "### 3. Matplotlibとは\n",
    "- グラフ描画のためのライブラリ\n",
    "- home.csvのデータを使ってグラフ描画してみます\n",
    "- ここではhome.csvというデータを使います。"
   ]
  },
  {
   "cell_type": "code",
   "execution_count": null,
   "metadata": {},
   "outputs": [],
   "source": [
    "import matplotlib.pyplot as plt  #pyplotというパッケージでグラフ描画を行う\n",
    "%matplotlib inline \n",
    "\n",
    "pd.set_option(\"display.max_columns\", 100) #現在の値は「pd.options.display.max_columns」で確認できる\n",
    "pd.set_option(\"display.max_rows\", 50) #現在の値は「pd.options.display.max_rows」で確認できる\n",
    "home_df = pd.read_csv('/Users/michiko.kadoya/JupyterNotebook/python-math-nyumon/home.csv')\n",
    "home_df"
   ]
  },
  {
   "cell_type": "code",
   "execution_count": null,
   "metadata": {},
   "outputs": [],
   "source": [
    "#データのサイズを確認する\n",
    "print(\"home data shape:\", home_df.shape)"
   ]
  },
  {
   "cell_type": "code",
   "execution_count": null,
   "metadata": {
    "collapsed": true
   },
   "outputs": [],
   "source": [
    "plt.style.use(style='ggplot')\n",
    "plt.rcParams['figure.figsize'] = (10, 6)"
   ]
  },
  {
   "cell_type": "code",
   "execution_count": null,
   "metadata": {},
   "outputs": [],
   "source": [
    "print(\"Skew is :\", home_df.SalePrice.skew()) #skewは歪度\n",
    "plt.hist(home_df.SalePrice, color='blue')"
   ]
  },
  {
   "cell_type": "code",
   "execution_count": null,
   "metadata": {},
   "outputs": [],
   "source": [
    "target = np.log(home_df.SalePrice) \n",
    "print(\"Skew is :\", target.skew())\n",
    "plt.hist(target, color='blue')"
   ]
  },
  {
   "cell_type": "code",
   "execution_count": null,
   "metadata": {
    "collapsed": true
   },
   "outputs": [],
   "source": [
    "### 最後に\n",
    "- もしGithubアカウントを持っていれば今日のNotebookを公開してみましょう！"
   ]
  }
 ],
 "metadata": {
  "kernelspec": {
   "display_name": "Python 3",
   "language": "python",
   "name": "python3"
  },
  "language_info": {
   "codemirror_mode": {
    "name": "ipython",
    "version": 3
   },
   "file_extension": ".py",
   "mimetype": "text/x-python",
   "name": "python",
   "nbconvert_exporter": "python",
   "pygments_lexer": "ipython3",
   "version": "3.6.3"
  }
 },
 "nbformat": 4,
 "nbformat_minor": 2
}
